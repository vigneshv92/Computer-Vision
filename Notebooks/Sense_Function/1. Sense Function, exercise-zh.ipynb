{
 "cells": [
  {
   "cell_type": "markdown",
   "metadata": {},
   "source": [
    "# Sense函数\n",
    "\n",
    "在这个笔记本中，让我们回顾一下机器人采取的步骤，即帮助将自己从最初的均匀分布本地化到感知和更新该分布。在这个notebook中，我们要回顾一下机器人使自己从最初的均匀分布本地化到感知与更新该分布。\n",
    "\n",
    "通过之前的学习，你对这些步骤应该非常熟悉了，而这一次，你的任务是编写一个涵盖这种行为的`sense`函数。\n",
    "\n",
    "1. 机器人刚开始对周围一无所知，它可能会出现在任何地方，因此 `p`是均匀分布。\n",
    "2. 然后，机器人感知到一个网格颜色：红色或绿色，并根据pHit和pMiss的值更新此分布`p`。\n",
    "\n",
    "* 机器人对颜色感知正确的概率是`pHit = 0.6`。\n",
    "* 机器人对颜色感知错误的概率是‘pMiss = 0.2。 \n",
    "\n",
    "<img src='images/robot_sensing.png' width=50% height=50% />"
   ]
  },
  {
   "cell_type": "code",
   "execution_count": null,
   "metadata": {},
   "outputs": [],
   "source": [
    "# importing resources\n",
    "import matplotlib.pyplot as plt\n",
    "import numpy as np"
   ]
  },
  {
   "cell_type": "markdown",
   "metadata": {},
   "source": [
    "还有一个是用于可视化概率分布的辅助函数。"
   ]
  },
  {
   "cell_type": "code",
   "execution_count": null,
   "metadata": {},
   "outputs": [],
   "source": [
    "def display_map(grid, bar_width=1):\n",
    "    if(len(grid) > 0):\n",
    "        x_labels = range(len(grid))\n",
    "        plt.bar(x_labels, height=grid, width=bar_width, color='b')\n",
    "        plt.xlabel('Grid Cell')\n",
    "        plt.ylabel('Probability')\n",
    "        plt.ylim(0, 1) # range of 0-1 for probability values \n",
    "        plt.title('Probability of the robot being at each cell in the grid')\n",
    "        plt.xticks(np.arange(min(x_labels), max(x_labels)+1, 1))\n",
    "        plt.show()\n",
    "    else:\n",
    "        print('Grid is empty')\n"
   ]
  },
  {
   "cell_type": "markdown",
   "metadata": {},
   "source": [
    "### 练习：完成sense函数，使其在感应后输出非均匀分布`p`。 \n",
    "\n",
    "我们从上一个练习开始。 `q = [0.04, 0.12, 0.12, 0.04, 0.04]`应该是传感器测量`Z= 'red'`时的分布。\n",
    "\n",
    "在`Z= 'green'`时，这个完整的函数也应该会输出正确的`q` 。\n",
    "\n",
    "请注意，`pHit`是指机器人正确感知其所在方块的颜色的概率，因此，如果机器人感知到红色*且*确实正处于红色方块上，我们会将当前位置概率（0.2）乘以pHit。如果机器人感觉到绿色*且*确实正处于绿色方块上，情况也是如此。"
   ]
  },
  {
   "cell_type": "code",
   "execution_count": null,
   "metadata": {},
   "outputs": [],
   "source": [
    "# given initial variables\n",
    "p=[0.2, 0.2, 0.2, 0.2, 0.2]\n",
    "# the color of each grid cell in the 1D world\n",
    "world=['green', 'red', 'red', 'green', 'green']\n",
    "# Z, the sensor reading ('red' or 'green')\n",
    "Z = 'red'\n",
    "pHit = 0.6\n",
    "pMiss = 0.2\n",
    "\n",
    "## Complete this function\n",
    "def sense(p, Z):\n",
    "    ''' Takes in a current probability distribution, p, and a sensor reading, Z.\n",
    "        Returns an unnormalized distribution after the sensor measurement has been made, q.\n",
    "        This should be accurate whether Z is 'red' or 'green'. '''\n",
    "    \n",
    "    q=[]\n",
    "    \n",
    "    return q\n",
    "\n",
    "q = sense(p,Z)\n",
    "print(q)\n",
    "display_map(q)"
   ]
  }
 ],
 "metadata": {
  "kernelspec": {
   "display_name": "Python 3",
   "language": "python",
   "name": "python3"
  },
  "language_info": {
   "codemirror_mode": {
    "name": "ipython",
    "version": 3
   },
   "file_extension": ".py",
   "mimetype": "text/x-python",
   "name": "python",
   "nbconvert_exporter": "python",
   "pygments_lexer": "ipython3",
   "version": "3.6.3"
  }
 },
 "nbformat": 4,
 "nbformat_minor": 2
}
